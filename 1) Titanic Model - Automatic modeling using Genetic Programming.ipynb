{
 "cells": [
  {
   "cell_type": "markdown",
   "metadata": {},
   "source": [
    "# In this file we assume no expert knowledgde was available and therefore illustrate how a model can be found automatically using Genetic Programming"
   ]
  },
  {
   "cell_type": "markdown",
   "metadata": {},
   "source": [
    "Essentially to run this file:\n",
    "    \n",
    "- you need the file evolutiongp_multi__.py which is located in the modules folder\n",
    "- you need to install the simpful package from https://github.com/Nikhilrs1993/simpful"
   ]
  },
  {
   "cell_type": "markdown",
   "metadata": {},
   "source": [
    "### Imports"
   ]
  },
  {
   "cell_type": "code",
   "execution_count": 1,
   "metadata": {},
   "outputs": [],
   "source": [
    "import numpy as np\n",
    "from simpful import *\n",
    "from modules.evolutiongp_multi__ import FuzzyEvolution\n",
    "from matplotlib import pyplot as plt\n",
    "from numpy import load\n",
    "import pickle\n",
    "import time\n",
    "from math import isclose"
   ]
  },
  {
   "cell_type": "markdown",
   "metadata": {},
   "source": [
    "### Helper Functions"
   ]
  },
  {
   "cell_type": "code",
   "execution_count": 2,
   "metadata": {},
   "outputs": [],
   "source": [
    "def save_object(obj, filename):\n",
    "    with open(filename, 'wb') as output:  # Overwrites any existing file.\n",
    "        pickle.dump(obj, output, pickle.HIGHEST_PROTOCOL)\n",
    "\n",
    "\n",
    "def running_mean(x, N):\n",
    "    cumsum = np.cumsum(np.insert(x, 0, 0))\n",
    "    return (cumsum[N:] - cumsum[:-N]) / float(N)\n",
    "\n",
    "\n",
    "def pad_or_truncate(some_list, target_len):\n",
    "    return some_list[:target_len] + [0]*(target_len - len(some_list))"
   ]
  },
  {
   "cell_type": "markdown",
   "metadata": {},
   "source": [
    "### Initialization Information"
   ]
  },
  {
   "cell_type": "code",
   "execution_count": 3,
   "metadata": {},
   "outputs": [],
   "source": [
    "# load X_train observation_based\n",
    "X = np.load('./inputs_processed_/X_train.npy')\n",
    "\n",
    "# X_test observation bassed\n",
    "X_T = np.load('./inputs_processed_/X_test.npy')\n",
    "\n",
    "# correspinding y_train and test\n",
    "y = np.load(\"./inputs_processed_/y_train.npy\").tolist()\n",
    "y = [item for sublist in y for item in sublist]\n",
    "y_test = np.load(\"./inputs_processed_/y_test.npy\").tolist()\n",
    "y_test = [item for sublist in y_test for item in sublist]\n",
    "\n",
    "# Initialize using var_names/ consequents/ cond_probs/ cluster_centers\n",
    "vars = ['passclass', 'sex', 'age', 'sibling', 'parentchild', 'fare', 'embarked']\n",
    "consequents = ['DEATH', 'ALIVE']\n",
    "average_fitness = []\n",
    "population_size = []"
   ]
  },
  {
   "cell_type": "markdown",
   "metadata": {},
   "source": [
    "### Evolution\n",
    "\n",
    "For oversight we will walk through the start, middle and end seperately here for oversight."
   ]
  },
  {
   "cell_type": "markdown",
   "metadata": {},
   "source": [
    "#### Initialisation (Generation 1)"
   ]
  },
  {
   "cell_type": "code",
   "execution_count": 4,
   "metadata": {},
   "outputs": [],
   "source": [
    "start = time.process_time()\n",
    "genes, survivin, avg, pop = FuzzyEvolution.initialisor(\n",
    "    population_=100, all_vars=vars, X=X, X_T=X_T, y=y, y_test=y_test, consequents=consequents, thresh=5)\n",
    "average_fitness.append(avg)\n",
    "population_size.append(pop)"
   ]
  },
  {
   "cell_type": "markdown",
   "metadata": {},
   "source": [
    "#### Evolute until condition is met (User defined)\n",
    "\n",
    "In this case we choose:\n",
    "\n",
    "1. If 100 generations is met: STOP\n",
    "2. if the fitness is changing by less than: 0.005, also STOP\n",
    "3. we do a minimum of 30 generations"
   ]
  },
  {
   "cell_type": "code",
   "execution_count": 5,
   "metadata": {},
   "outputs": [
    {
     "name": "stderr",
     "output_type": "stream",
     "text": [
      "d:\\documents\\github\\simpful\\simpful\\simpful.py:912: RuntimeWarning: invalid value encountered in true_divide\n",
      "  normalized_activation_rule = np.divide(rule_outputs, np.sum(rule_outputs))\n",
      "d:\\documents\\github\\simpful\\simpful\\simpful.py:878: RuntimeWarning: invalid value encountered in true_divide\n",
      "  normalized_activation_rule = np.divide(rule_outputs, np.sum(rule_outputs))\n"
     ]
    },
    {
     "name": "stdout",
     "output_type": "stream",
     "text": [
      "165.8125\n",
      "251.703125\n",
      "342.0625\n",
      "431.78125\n",
      "517.09375\n",
      "590.421875\n",
      "654.734375\n",
      "717.09375\n",
      "765.1875\n",
      "812.375\n",
      "860.453125\n",
      "905.21875\n",
      "938.625\n",
      "963.78125\n",
      "987.625\n",
      "1018.515625\n",
      "1047.375\n",
      "1073.203125\n",
      "1094.1875\n",
      "1116.203125\n",
      "1142.375\n",
      "1164.25\n",
      "1187.046875\n",
      "1204.625\n",
      "1223.9375\n",
      "1243.71875\n",
      "1263.46875\n",
      "1279.890625\n",
      "1294.6875\n",
      "1310.765625\n",
      "1328.421875\n",
      "1342.609375\n",
      "1355.5625\n",
      "1369.578125\n",
      "1386.375\n",
      "1403.109375\n"
     ]
    }
   ],
   "source": [
    "done = False\n",
    "counter = 0\n",
    "while done is False:\n",
    "    genes, survivin, avg, pop = FuzzyEvolution.gp_evolve(\n",
    "        genes, all_vars=vars, X=X, X_T=X_T, y=y, y_test=y_test, consequents=consequents, surviving_individuals=survivin)\n",
    "    counter += 1\n",
    "    average_fitness.append(avg)\n",
    "    population_size.append(pop)\n",
    "    if counter > 30:\n",
    "        average_fitness_rolling = running_mean(average_fitness, 20)\n",
    "        relevant_no = average_fitness_rolling[-1]\n",
    "        relevant_no_ = average_fitness[-1]\n",
    "        if isclose(relevant_no, relevant_no_, abs_tol=0.005):\n",
    "            done = True\n",
    "    if counter > 100:\n",
    "        done = True\n",
    "    \n",
    "    # time it\n",
    "    print(time.process_time() - start)"
   ]
  },
  {
   "cell_type": "markdown",
   "metadata": {},
   "source": [
    "#### Last Generation"
   ]
  },
  {
   "cell_type": "code",
   "execution_count": 6,
   "metadata": {},
   "outputs": [
    {
     "name": "stdout",
     "output_type": "stream",
     "text": [
      "1418.15625\n"
     ]
    },
    {
     "data": {
      "text/plain": [
       "[101,\n",
       " 101,\n",
       " 101,\n",
       " 101,\n",
       " 101,\n",
       " 101,\n",
       " 101,\n",
       " 101,\n",
       " 101,\n",
       " 101,\n",
       " 101,\n",
       " 101,\n",
       " 101,\n",
       " 101,\n",
       " 101,\n",
       " 101,\n",
       " 101,\n",
       " 101,\n",
       " 101,\n",
       " 101,\n",
       " 101,\n",
       " 101,\n",
       " 101,\n",
       " 101,\n",
       " 101,\n",
       " 101,\n",
       " 101,\n",
       " 101,\n",
       " 101,\n",
       " 101,\n",
       " 101,\n",
       " 101,\n",
       " 101,\n",
       " 101,\n",
       " 101,\n",
       " 101,\n",
       " 101,\n",
       " 101]"
      ]
     },
     "execution_count": 6,
     "metadata": {},
     "output_type": "execute_result"
    }
   ],
   "source": [
    "best_models = FuzzyEvolution.gp_evaluate(\n",
    "    genes, all_vars=vars, X=X, X_T=X_T, y=y, y_test=y_test, consequents=consequents, surviving_individuals=survivin)\n",
    "average_fitness.append(avg)\n",
    "population_size.append(pop)\n",
    "\n",
    "# time it\n",
    "print(time.process_time() - start)\n",
    "\n",
    "# Keep average fitness per generation\n",
    "pad_or_truncate(average_fitness, counter+2)\n",
    "\n",
    "pad_or_truncate(population_size, counter+2)"
   ]
  },
  {
   "cell_type": "code",
   "execution_count": 7,
   "metadata": {},
   "outputs": [
    {
     "data": {
      "image/png": "[encoded data removed]",
      "text/plain": [
       "<Figure size 432x288 with 1 Axes>"
      ]
     },
     "metadata": {
      "needs_background": "light"
     },
     "output_type": "display_data"
    }
   ],
   "source": [
    "plt.plot(list(range(counter+2)), average_fitness)\n",
    "plt.show()"
   ]
  },
  {
   "cell_type": "code",
   "execution_count": 8,
   "metadata": {},
   "outputs": [],
   "source": [
    "save_object(best_models, 'titanic_model_2.pkl')"
   ]
  }
 ],
 "metadata": {
  "kernelspec": {
   "display_name": "Python 3",
   "language": "python",
   "name": "python3"
  },
  "language_info": {
   "codemirror_mode": {
    "name": "ipython",
    "version": 3
   },
   "file_extension": ".py",
   "mimetype": "text/x-python",
   "name": "python",
   "nbconvert_exporter": "python",
   "pygments_lexer": "ipython3",
   "version": "3.7.7"
  }
 },
 "nbformat": 4,
 "nbformat_minor": 4
}
